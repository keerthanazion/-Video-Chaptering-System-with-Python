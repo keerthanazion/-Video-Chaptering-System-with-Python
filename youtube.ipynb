{
  "nbformat": 4,
  "nbformat_minor": 0,
  "metadata": {
    "colab": {
      "provenance": [],
      "authorship_tag": "ABX9TyMDzWfIHjHZ1n2IYlIGobfS"
    },
    "kernelspec": {
      "name": "python3",
      "display_name": "Python 3"
    },
    "language_info": {
      "name": "python"
    }
  },
  "cells": [
    {
      "cell_type": "code",
      "execution_count": 1,
      "metadata": {
        "colab": {
          "base_uri": "https://localhost:8080/"
        },
        "id": "GZCOgpECUTn0",
        "outputId": "09850447-2eeb-478b-d0d3-4923b22d8f9d"
      },
      "outputs": [
        {
          "output_type": "stream",
          "name": "stdout",
          "text": [
            "Collecting youtube-transcript-api\n",
            "  Downloading youtube_transcript_api-0.6.2-py3-none-any.whl.metadata (15 kB)\n",
            "Requirement already satisfied: requests in /usr/local/lib/python3.10/dist-packages (from youtube-transcript-api) (2.32.3)\n",
            "Requirement already satisfied: charset-normalizer<4,>=2 in /usr/local/lib/python3.10/dist-packages (from requests->youtube-transcript-api) (3.3.2)\n",
            "Requirement already satisfied: idna<4,>=2.5 in /usr/local/lib/python3.10/dist-packages (from requests->youtube-transcript-api) (3.10)\n",
            "Requirement already satisfied: urllib3<3,>=1.21.1 in /usr/local/lib/python3.10/dist-packages (from requests->youtube-transcript-api) (2.0.7)\n",
            "Requirement already satisfied: certifi>=2017.4.17 in /usr/local/lib/python3.10/dist-packages (from requests->youtube-transcript-api) (2024.8.30)\n",
            "Downloading youtube_transcript_api-0.6.2-py3-none-any.whl (24 kB)\n",
            "Installing collected packages: youtube-transcript-api\n",
            "Successfully installed youtube-transcript-api-0.6.2\n"
          ]
        }
      ],
      "source": [
        "pip install youtube-transcript-api"
      ]
    },
    {
      "cell_type": "markdown",
      "source": [
        "**Transcript Retrieval and CSV Export**\n",
        "\n",
        "The provided Python script retrieves the transcript of a YouTube video along with its title and saves this information to a CSV file. It starts by importing necessary libraries such as re for regular expressions, csv for handling CSV files, and pandas for data manipulation. The script uses the Google YouTube Data API to fetch video details and the YouTube Transcript API to obtain the video's transcript.\n",
        "\n",
        "The get_video_id function extracts the video ID from a provided YouTube URL. Next, get_video_title retrieves the video's title using the YouTube API, while get_video_transcript attempts to fetch the transcript; it handles any potential errors gracefully. The save_to_csv function organizes the transcript data and appends the video's title to a CSV file. Finally, the main function orchestrates the process by prompting the user for a YouTube link, validating it, and executing the other functions accordingly, ultimately saving the transcript in a file named after the video ID.\n"
      ],
      "metadata": {
        "id": "n1EQFUB38yV9"
      }
    },
    {
      "cell_type": "code",
      "source": [
        "import re\n",
        "import csv\n",
        "import pandas as pd\n",
        "from googleapiclient.discovery import build\n",
        "from youtube_transcript_api import YouTubeTranscriptApi\n",
        "\n",
        "API_KEY = 'f{enter your API_KEY}'\n",
        "\n",
        "def get_video_id(url):\n",
        "    video_id_match = re.search(r'(?:v=|\\/)([0-9A-Za-z_-]{11}).*', url)\n",
        "    return video_id_match.group(1) if video_id_match else None\n",
        "\n",
        "def get_video_title(video_id):\n",
        "    youtube = build('youtube', 'v3', developerKey=API_KEY)\n",
        "\n",
        "    request = youtube.videos().list(\n",
        "        part='snippet',\n",
        "        id=video_id\n",
        "    )\n",
        "    response = request.execute()\n",
        "\n",
        "    title = response['items'][0]['snippet']['title'] if response['items'] else 'Unknown Title'\n",
        "    return title\n",
        "\n",
        "def get_video_transcript(video_id):\n",
        "    try:\n",
        "        transcript = YouTubeTranscriptApi.get_transcript(video_id)\n",
        "        return transcript\n",
        "    except Exception as e:\n",
        "        print(f\"An error occurred: {e}\")\n",
        "        return []\n",
        "\n",
        "def save_to_csv(title, transcript, filename):\n",
        "    transcript_data = [{'start': entry['start'], 'text': entry['text']} for entry in transcript]\n",
        "    df = pd.DataFrame(transcript_data)\n",
        "    df.to_csv(filename, index=False)\n",
        "\n",
        "    with open(filename, 'a', newline='') as file:\n",
        "        writer = csv.writer(file)\n",
        "        writer.writerow(['Title:', title])\n",
        "\n",
        "def main():\n",
        "    url = input('Enter the YouTube video link: ')\n",
        "    video_id = get_video_id(url)\n",
        "\n",
        "    if not video_id:\n",
        "        print('Invalid YouTube URL.')\n",
        "        return\n",
        "\n",
        "    title = get_video_title(video_id)\n",
        "    transcript = get_video_transcript(video_id)\n",
        "\n",
        "    if not transcript:\n",
        "        print('No transcript available for this video.')\n",
        "        return\n",
        "\n",
        "    filename = f\"{video_id}_transcript.csv\"\n",
        "    save_to_csv(title, transcript, filename)\n",
        "    print(f'Transcript saved to {filename}')\n",
        "\n",
        "if __name__ == '__main__':\n",
        "    main()"
      ],
      "metadata": {
        "colab": {
          "base_uri": "https://localhost:8080/"
        },
        "id": "mdqnYdgMWqQQ",
        "outputId": "c2c928ae-b1ff-47e7-f67d-14f3329baff1"
      },
      "execution_count": 2,
      "outputs": [
        {
          "output_type": "stream",
          "name": "stdout",
          "text": [
            "Enter the YouTube video link: https://www.youtube.com/watch?v=4QkYy1wANXA&list=PLeo1K3hjS3utcb9nKtanhcn8jd2E0Hp9b&index=2\n",
            "Transcript saved to 4QkYy1wANXA_transcript.csv\n"
          ]
        }
      ]
    },
    {
      "cell_type": "markdown",
      "source": [],
      "metadata": {
        "id": "HtOvWRbr8w0-"
      }
    },
    {
      "cell_type": "code",
      "source": [
        "import pandas as pd\n",
        "import numpy as np\n",
        "import matplotlib.pyplot as plt\n",
        "from sklearn.feature_extraction.text import TfidfVectorizer, CountVectorizer\n",
        "from sklearn.decomposition import NMF, LatentDirichletAllocation\n",
        "\n",
        "transcript_df = pd.read_csv(\"/content/4QkYy1wANXA_transcript.csv\")\n",
        "print(transcript_df.head())"
      ],
      "metadata": {
        "colab": {
          "base_uri": "https://localhost:8080/"
        },
        "id": "0l8qBycHW4qV",
        "outputId": "d1d74120-2419-40a0-9332-522182b0c87d"
      },
      "execution_count": 3,
      "outputs": [
        {
          "output_type": "stream",
          "name": "stdout",
          "text": [
            "   start                                      text\n",
            "0    0.0   T20 Cricket World Cup was finished just\n",
            "1  2.399      few weeks back with England claiming\n",
            "2    4.2   victory over Pakistan, and today we are\n",
            "3   6.54        beginning a cricket data analytics\n",
            "4   8.58  series using same T20 World Cup data. We\n"
          ]
        }
      ]
    },
    {
      "cell_type": "code",
      "source": [
        "transcript_df['start'] = pd.to_numeric(transcript_df['start'], errors='coerce')\n",
        "\n",
        "print(\"Dataset Overview:\")\n",
        "print(transcript_df.info())\n",
        "print(\"\\nBasic Statistics:\")\n",
        "print(transcript_df.describe())"
      ],
      "metadata": {
        "colab": {
          "base_uri": "https://localhost:8080/"
        },
        "id": "FQr48WiWXGaG",
        "outputId": "e5755b4c-4af2-4042-d05f-db002091a2f5"
      },
      "execution_count": 4,
      "outputs": [
        {
          "output_type": "stream",
          "name": "stdout",
          "text": [
            "Dataset Overview:\n",
            "<class 'pandas.core.frame.DataFrame'>\n",
            "RangeIndex: 2254 entries, 0 to 2253\n",
            "Data columns (total 2 columns):\n",
            " #   Column  Non-Null Count  Dtype  \n",
            "---  ------  --------------  -----  \n",
            " 0   start   2253 non-null   float64\n",
            " 1   text    2254 non-null   object \n",
            "dtypes: float64(1), object(1)\n",
            "memory usage: 35.3+ KB\n",
            "None\n",
            "\n",
            "Basic Statistics:\n",
            "             start\n",
            "count  2253.000000\n",
            "mean   3055.164951\n",
            "std    1770.803917\n",
            "min       0.000000\n",
            "25%    1482.900000\n",
            "50%    3073.200000\n",
            "75%    4624.440000\n",
            "max    6007.910000\n"
          ]
        }
      ]
    },
    {
      "cell_type": "code",
      "source": [
        "transcript_df['text_length'] = transcript_df['text'].apply(len)\n",
        "plt.figure(figsize=(10, 5))\n",
        "plt.hist(transcript_df['text_length'], bins=50, color='blue', alpha=0.7)\n",
        "plt.title('Distribution of Text Lengths')\n",
        "plt.xlabel('Text Length')\n",
        "plt.ylabel('Frequency')\n",
        "plt.show()"
      ],
      "metadata": {
        "colab": {
          "base_uri": "https://localhost:8080/",
          "height": 487
        },
        "id": "dfYhKQeGXPpN",
        "outputId": "b28a0018-f2c2-4daa-e7ff-c1fc8c57890f"
      },
      "execution_count": 5,
      "outputs": [
        {
          "output_type": "display_data",
          "data": {
            "text/plain": [
              "<Figure size 1000x500 with 1 Axes>"
            ],
            "image/png": "[encoded data removed]"
          },
          "metadata": {}
        }
      ]
    },
    {
      "cell_type": "markdown",
      "source": [],
      "metadata": {
        "id": "71dmRVw-9Xob"
      }
    },
    {
      "cell_type": "markdown",
      "source": [
        "**Word Frequency Analysis and Visualization of Transcript Data**\n",
        "\n",
        "This code snippet analyzes the frequency of words in a transcript stored in a DataFrame and visualizes the most common words using a bar chart. It utilizes CountVectorizer to convert the text data into a matrix of word counts while excluding common English stop words. The word counts are summed and sorted to identify the top 20 most frequent words. Finally, a bar chart is generated using matplotlib to display these common words along with their frequencies, providing insights into the key themes or topics in the transcript."
      ],
      "metadata": {
        "id": "srzFWQf29Z5E"
      }
    },
    {
      "cell_type": "code",
      "source": [
        "vectorizer = CountVectorizer(stop_words='english')\n",
        "word_counts = vectorizer.fit_transform(transcript_df['text'])\n",
        "word_counts_df = pd.DataFrame(word_counts.toarray(), columns=vectorizer.get_feature_names_out())\n",
        "common_words = word_counts_df.sum().sort_values(ascending=False).head(20)\n",
        "plt.figure(figsize=(10, 5))\n",
        "common_words.plot(kind='bar', color='green', alpha=0.7)\n",
        "plt.title('Top 20 Common Words')\n",
        "plt.xlabel('Words')\n",
        "plt.ylabel('Frequency')\n",
        "plt.show()"
      ],
      "metadata": {
        "colab": {
          "base_uri": "https://localhost:8080/",
          "height": 524
        },
        "id": "C--hIxdBXW8n",
        "outputId": "a2180200-b761-4e93-b23f-70dd999ae7c1"
      },
      "execution_count": 6,
      "outputs": [
        {
          "output_type": "display_data",
          "data": {
            "text/plain": [
              "<Figure size 1000x500 with 1 Axes>"
            ],
            "image/png": "[encoded data removed]"
          },
          "metadata": {}
        }
      ]
    },
    {
      "cell_type": "markdown",
      "source": [
        "**Topic Modeling of Transcript Data Using Non-negative Matrix Factorization (NMF)**\n",
        "\n",
        "This code snippet performs topic modeling on a transcript dataset using Non-negative Matrix Factorization (NMF). It starts by defining parameters such as the number of features, topics, and top words to extract. The CountVectorizer is used to transform the text into a term-frequency matrix while filtering out common stop words. NMF is then applied to this matrix to identify the specified number of topics.\n",
        "\n",
        "The display_topics function extracts and displays the top words associated with each identified topic by sorting the components of the NMF model. Finally, the topics are printed, showcasing the key themes present in the transcript data. This approach helps uncover underlying patterns and subjects within the text, making it easier to analyze and interpret the content."
      ],
      "metadata": {
        "id": "YEJubjcp9lwy"
      }
    },
    {
      "cell_type": "code",
      "source": [
        "n_features = 1000\n",
        "n_topics = 10\n",
        "n_top_words = 10\n",
        "\n",
        "tf_vectorizer = CountVectorizer(max_df=0.95, min_df=2, stop_words='english')\n",
        "tf = tf_vectorizer.fit_transform(transcript_df['text'])\n",
        "nmf = NMF(n_components=n_topics, random_state=42).fit(tf)\n",
        "tf_feature_names = tf_vectorizer.get_feature_names_out()\n",
        "\n",
        "def display_topics(model, feature_names, no_top_words):\n",
        "    topics = []\n",
        "    for topic_idx, topic in enumerate(model.components_):\n",
        "        topic_words = [feature_names[i] for i in topic.argsort()[:-no_top_words - 1:-1]]\n",
        "        topics.append(\" \".join(topic_words))\n",
        "    return topics\n",
        "\n",
        "topics = display_topics(nmf, tf_feature_names, n_top_words)\n",
        "print(\"\\nIdentified Topics:\")\n",
        "for i, topic in enumerate(topics):\n",
        "    print(f\"Topic {i + 1}: {topic}\")"
      ],
      "metadata": {
        "colab": {
          "base_uri": "https://localhost:8080/"
        },
        "id": "Lk8LZ_IxXZn4",
        "outputId": "adb633b8-9723-40e8-f67f-1a71aac19519"
      },
      "execution_count": 7,
      "outputs": [
        {
          "output_type": "stream",
          "name": "stdout",
          "text": [
            "\n",
            "Identified Topics:\n",
            "Topic 1: say let right click ll particular boundary look print code\n",
            "Topic 2: just know say ll drop number want don run downloads\n",
            "Topic 3: uh know good ll look power bowling different performance click\n",
            "Topic 4: okay like file key use ll total csv measures innings\n",
            "Topic 5: data power bright bi transformation analytics cricket collection look project\n",
            "Topic 6: batting match summary average file id fact results element json\n",
            "Topic 7: strike rate bowling runs average ball greater 140 want total\n",
            "Topic 8: column create new want called dismissal right balls particular match\n",
            "Topic 9: team vs right need like sri lanka 11 click overs\n",
            "Topic 10: going use players files select want code file csv create\n"
          ]
        }
      ]
    },
    {
      "cell_type": "code",
      "source": [
        "topic_distribution = nmf.transform(tf)\n",
        "\n",
        "topic_distribution_trimmed = topic_distribution[:len(transcript_df)]\n",
        "\n",
        "transcript_df['dominant_topic'] = topic_distribution_trimmed.argmax(axis=1)"
      ],
      "metadata": {
        "id": "tYZg1d46XihF"
      },
      "execution_count": 8,
      "outputs": []
    },
    {
      "cell_type": "code",
      "source": [
        "logical_breaks = []\n",
        "\n",
        "for i in range(1, len(transcript_df)):\n",
        "    if transcript_df['dominant_topic'].iloc[i] != transcript_df['dominant_topic'].iloc[i - 1]:\n",
        "        logical_breaks.append(transcript_df['start'].iloc[i])"
      ],
      "metadata": {
        "id": "hSWw_acWXme-"
      },
      "execution_count": 9,
      "outputs": []
    },
    {
      "cell_type": "code",
      "source": [
        "threshold = 60\n",
        "consolidated_breaks = []\n",
        "last_break = None\n",
        "\n",
        "for break_point in logical_breaks:\n",
        "    if last_break is None or break_point - last_break >= threshold:\n",
        "        consolidated_breaks.append(break_point)\n",
        "        last_break = break_point"
      ],
      "metadata": {
        "id": "G6OCP1GxXqrt"
      },
      "execution_count": 10,
      "outputs": []
    },
    {
      "cell_type": "code",
      "source": [
        "final_chapters = []\n",
        "last_chapter = (consolidated_breaks[0], transcript_df['dominant_topic'][0])\n",
        "\n",
        "for break_point in consolidated_breaks[1:]:\n",
        "    current_topic = transcript_df[transcript_df['start'] == break_point]['dominant_topic'].values[0]\n",
        "    if current_topic == last_chapter[1]:\n",
        "        last_chapter = (last_chapter[0], current_topic)\n",
        "    else:\n",
        "        final_chapters.append(last_chapter)\n",
        "        last_chapter = (break_point, current_topic)\n",
        "\n",
        "final_chapters.append(last_chapter)"
      ],
      "metadata": {
        "id": "Na4tDjFUXujI"
      },
      "execution_count": 11,
      "outputs": []
    },
    {
      "cell_type": "markdown",
      "source": [
        "**Generation of Readable Chapter Points and Titles from Transcript Data**\n",
        "\n",
        "This code snippet processes a transcript to create chapter points and corresponding names in a readable format. It converts each chapter's time from seconds to HH:MM:SS and extracts relevant text based on chapter break points and dominant topics. To generate descriptive chapter names, it uses TfidfVectorizer to identify significant key phrases while filtering out common stop words. These phrases are combined to form concise titles for each chapter. Finally, the chapter times and names are printed, enhancing the readability and navigability of the transcript, making it easier for users to locate specific sections."
      ],
      "metadata": {
        "id": "CA53vCiv9_a_"
      }
    },
    {
      "cell_type": "code",
      "source": [
        "chapter_points = []\n",
        "chapter_names = []\n",
        "\n",
        "for i, (break_point, topic_idx) in enumerate(final_chapters):\n",
        "    chapter_time = pd.to_datetime(break_point, unit='s').strftime('%H:%M:%S')\n",
        "    chapter_points.append(chapter_time)\n",
        "\n",
        "\n",
        "    chapter_text = transcript_df[(transcript_df['start'] >= break_point) & (transcript_df['dominant_topic'] == topic_idx)]['text'].str.cat(sep=' ')\n",
        "\n",
        "\n",
        "    vectorizer = TfidfVectorizer(stop_words='english', max_features=3)\n",
        "    tfidf_matrix = vectorizer.fit_transform([chapter_text])\n",
        "    feature_names = vectorizer.get_feature_names_out()\n",
        "    chapter_name = \" \".join(feature_names)\n",
        "\n",
        "    chapter_names.append(f\"Chapter {i+1}: {chapter_name}\")\n",
        "\n",
        "\n",
        "print(\"\\nFinal Chapter Points with Names:\")\n",
        "for time, name in zip(chapter_points, chapter_names):\n",
        "    print(f\"{time} - {name}\")"
      ],
      "metadata": {
        "colab": {
          "base_uri": "https://localhost:8080/"
        },
        "id": "zmR31S10Xy4g",
        "outputId": "898d62ab-9d49-4bd4-9c22-51c97503f2b5"
      },
      "execution_count": 12,
      "outputs": [
        {
          "output_type": "stream",
          "name": "stdout",
          "text": [
            "\n",
            "Final Chapter Points with Names:\n",
            "00:00:02 - Chapter 1: just number say\n",
            "00:01:04 - Chapter 2: like right team\n",
            "00:02:05 - Chapter 3: data look power\n",
            "00:03:06 - Chapter 4: basically file okay\n",
            "00:04:12 - Chapter 5: need right team\n",
            "00:05:12 - Chapter 6: different know uh\n",
            "00:07:12 - Chapter 7: files going players\n",
            "00:08:17 - Chapter 8: need right team\n",
            "00:09:54 - Chapter 9: just number say\n",
            "00:10:58 - Chapter 10: code going players\n",
            "00:11:59 - Chapter 11: let row say\n",
            "00:13:00 - Chapter 12: column create want\n",
            "00:14:07 - Chapter 13: batting match summary\n",
            "00:15:08 - Chapter 14: data look power\n",
            "00:16:11 - Chapter 15: files going players\n",
            "00:17:12 - Chapter 16: column create want\n",
            "00:18:14 - Chapter 17: file measures okay\n",
            "00:19:15 - Chapter 18: files going players\n",
            "00:20:15 - Chapter 19: data look power\n",
            "00:21:16 - Chapter 20: just number say\n",
            "00:22:25 - Chapter 21: like right team\n",
            "00:24:29 - Chapter 22: column create want\n",
            "00:25:31 - Chapter 23: data look power\n",
            "00:27:36 - Chapter 24: file measures okay\n",
            "00:28:40 - Chapter 25: dashboard going players\n",
            "00:30:44 - Chapter 26: like right team\n",
            "00:31:45 - Chapter 27: data look power\n",
            "00:32:46 - Chapter 28: check let say\n",
            "00:33:46 - Chapter 29: column create want\n",
            "00:35:51 - Chapter 30: file measures okay\n",
            "00:36:57 - Chapter 31: batting match summary\n",
            "00:38:01 - Chapter 32: data look power\n",
            "00:39:03 - Chapter 33: like right team\n",
            "00:40:04 - Chapter 34: batting match summary\n",
            "00:41:06 - Chapter 35: different know uh\n",
            "00:42:06 - Chapter 36: data look power\n",
            "00:43:08 - Chapter 37: like right team\n",
            "00:44:09 - Chapter 38: data look power\n",
            "00:45:13 - Chapter 39: dashboard going players\n",
            "00:46:27 - Chapter 40: innings measures okay\n",
            "00:47:27 - Chapter 41: data look power\n",
            "00:48:28 - Chapter 42: just number say\n",
            "00:49:30 - Chapter 43: batting match summary\n",
            "00:51:35 - Chapter 44: different know uh\n",
            "00:52:38 - Chapter 45: rate runs strike\n",
            "00:53:40 - Chapter 46: created just number\n",
            "00:54:54 - Chapter 47: check let say\n",
            "00:56:58 - Chapter 48: column create want\n",
            "00:57:58 - Chapter 49: like need team\n",
            "00:58:59 - Chapter 50: dashboard going players\n",
            "01:00:01 - Chapter 51: different know uh\n",
            "01:01:03 - Chapter 52: rate runs strike\n",
            "01:02:03 - Chapter 53: column create want\n",
            "01:03:05 - Chapter 54: innings like okay\n",
            "01:04:07 - Chapter 55: rate runs strike\n",
            "01:05:12 - Chapter 56: just number visual\n",
            "01:06:12 - Chapter 57: rate runs strike\n",
            "01:07:16 - Chapter 58: check let say\n",
            "01:08:20 - Chapter 59: just number visual\n",
            "01:09:21 - Chapter 60: check let say\n",
            "01:10:21 - Chapter 61: look power project\n",
            "01:11:22 - Chapter 62: balls super want\n",
            "01:12:26 - Chapter 63: bowling rate strike\n",
            "01:13:29 - Chapter 64: balls super want\n",
            "01:15:30 - Chapter 65: look power project\n",
            "01:16:31 - Chapter 66: just number ve\n",
            "01:17:32 - Chapter 67: data look project\n",
            "01:18:32 - Chapter 68: like need team\n",
            "01:19:34 - Chapter 69: good know uh\n",
            "01:20:37 - Chapter 70: parameters wickets world\n",
            "01:21:38 - Chapter 71: average batting position\n",
            "01:22:39 - Chapter 72: going number players\n",
            "01:24:42 - Chapter 73: like need team\n",
            "01:25:50 - Chapter 74: innings okay wanted\n",
            "01:26:53 - Chapter 75: bowling rate strike\n",
            "01:27:59 - Chapter 76: let say um\n",
            "01:29:02 - Chapter 77: just number ve\n",
            "01:30:05 - Chapter 78: know post uh\n",
            "01:31:06 - Chapter 79: bowling rate strike\n",
            "01:32:16 - Chapter 80: know post uh\n",
            "01:33:16 - Chapter 81: 11 right team\n",
            "01:34:18 - Chapter 82: bowling rate strike\n",
            "01:36:21 - Chapter 83: 16 add let\n",
            "01:37:26 - Chapter 84: bring glory light\n",
            "01:38:26 - Chapter 85: add discord insights\n",
            "01:39:27 - Chapter 86: attention post uh\n"
          ]
        }
      ]
    }
  ]
}